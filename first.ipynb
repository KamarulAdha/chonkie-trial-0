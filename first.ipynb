{
 "cells": [
  {
   "cell_type": "code",
   "execution_count": 1,
   "metadata": {},
   "outputs": [],
   "source": [
    "# !pip3 install \"chonkie[all]\""
   ]
  },
  {
   "cell_type": "code",
   "execution_count": 2,
   "metadata": {},
   "outputs": [],
   "source": [
    "story = \"\"\"\n",
    "A Purple Dragon's Dawn\n",
    "\n",
    "In the heart of the Dragon Realms, beneath the towering spires of the Artisans' world, a very special egg rested among dozens of others in the Year of the Dragon. While most dragon eggs shimmered in shades of blue and green, this particular egg gleamed with an unusual purple hue that caught the sunlight in mysterious ways.\n",
    "\n",
    "Elder Dragon Astor watched over the eggs with particular interest in the purple one. According to ancient scrolls, purple dragons were exceedingly rare and possessed unique abilities that could master all the elemental powers - not just one, as was common among their kin.\n",
    "\n",
    "On the evening of the great hatching, while other dragonets emerged gracefully from their shells, the purple egg practically exploded with energy, sending sparkles in every direction. Out tumbled a tiny purple dragon with bright orange wings and golden horns - Spyro. While other newly hatched dragons were still finding their footing, Spyro was already charging around the nursery, bouncing off walls and accidentally setting tapestries ablaze with his surprisingly powerful flame breath.\n",
    "\n",
    "It was during these first chaotic moments that a young dragonfly named Sparx, attracted by the commotion, flew into the nursery. Instead of being frightened by the energetic purple dragonet, Sparx seemed fascinated. The two locked eyes, and an immediate bond formed - one that would last a lifetime.\n",
    "\n",
    "The elder dragons quickly discovered that raising Spyro would be unlike raising any other young dragon. While his peers were content to study the ancient arts carefully and methodically, Spyro preferred learning by doing - usually at full speed. He would glide before he was taught how, dive-bomb practice dummies before understanding proper form, and somehow manage to succeed through sheer determination and natural talent.\n",
    "\n",
    "Nestor, the Artisans' leader, often found himself both impressed and exasperated by Spyro's antics. \"That young dragon,\" he would say, \"either going to be the realm's greatest hero or its biggest troublemaker.\" As it turned out, he would become both.\n",
    "\n",
    "What truly set Spyro apart wasn't just his color or his abilities - it was his unwavering courage and his willingness to help others, even when the odds seemed impossible. While other young dragons stayed within the safety of their home worlds, Spyro would venture out to help anyone in need, with faithful Sparx always by his side.\n",
    "\n",
    "This inherent bravery would serve him well, for none of his teachers could have predicted that this small, headstrong purple dragon would one day face the likes of Gnasty Gnorc, protect the realms from Ripto's rage, and save the Dragon Worlds time and time again. But that's exactly what made Spyro special - he never backed down from a challenge, no matter how daunting it seemed.\n",
    "\n",
    "As he grew, Spyro maintained that same infectious enthusiasm and determination that had characterized his hatching. He transformed from an energetic hatchling into a legendary hero, proving that great things often come in small, purple packages.\n",
    "\"\"\""
   ]
  },
  {
   "cell_type": "markdown",
   "metadata": {},
   "source": [
    "## Basic\n",
    "https://docs.chonkie.ai/getting-started/introduction"
   ]
  },
  {
   "cell_type": "code",
   "execution_count": 3,
   "metadata": {},
   "outputs": [],
   "source": [
    "from chonkie import TokenChunker"
   ]
  },
  {
   "cell_type": "code",
   "execution_count": 4,
   "metadata": {},
   "outputs": [],
   "source": [
    "chunker = TokenChunker() # defaults to using GPT2 tokenizer"
   ]
  },
  {
   "cell_type": "code",
   "execution_count": 5,
   "metadata": {},
   "outputs": [],
   "source": [
    "text = \"\"\"\n",
    "Woah! Chonkie, the chunking library is so cool! I love the tiny hippo hehe.\n",
    "\"\"\""
   ]
  },
  {
   "cell_type": "code",
   "execution_count": 6,
   "metadata": {},
   "outputs": [],
   "source": [
    "chunks = chunker(text)"
   ]
  },
  {
   "cell_type": "code",
   "execution_count": 7,
   "metadata": {},
   "outputs": [
    {
     "data": {
      "text/plain": [
       "[Chunk(text=\n",
       " Woah! Chonkie, the chunking library is so cool! I love the tiny hippo hehe.\n",
       " , start_index=0, end_index=77, token_count=26, context=None)]"
      ]
     },
     "execution_count": 7,
     "metadata": {},
     "output_type": "execute_result"
    }
   ],
   "source": [
    "chunks"
   ]
  },
  {
   "cell_type": "code",
   "execution_count": null,
   "metadata": {},
   "outputs": [],
   "source": []
  },
  {
   "cell_type": "markdown",
   "metadata": {},
   "source": [
    "## Exp 1 (TokenChunker)\n",
    "Split text into fixed-size token chunks with configurable overlap\n",
    "\n",
    "The TokenChunker splits text into chunks based on token count, ensuring each chunk stays within specified token limits.\n",
    "\n",
    "https://docs.chonkie.ai/chunkers/token-chunker"
   ]
  },
  {
   "cell_type": "code",
   "execution_count": 8,
   "metadata": {},
   "outputs": [],
   "source": [
    "from chonkie import TokenChunker"
   ]
  },
  {
   "cell_type": "code",
   "execution_count": 9,
   "metadata": {},
   "outputs": [],
   "source": [
    "chunker = TokenChunker(\n",
    "    tokenizer=\"gpt2\",  # Supports string identifiers\n",
    "    chunk_size=128,    # Maximum tokens per chunk\n",
    "    chunk_overlap=64  # Overlap between chunks\n",
    ")"
   ]
  },
  {
   "cell_type": "code",
   "execution_count": 10,
   "metadata": {},
   "outputs": [],
   "source": [
    "chunks = chunker.chunk(story)"
   ]
  },
  {
   "cell_type": "code",
   "execution_count": 11,
   "metadata": {},
   "outputs": [
    {
     "name": "stdout",
     "output_type": "stream",
     "text": [
      "Chunk text: \n",
      "A Purple Dragon's Dawn\n",
      "\n",
      "In the heart of the Dragon Realms, beneath the towering spires of the Artisans' world, a very special egg rested among dozens of others in the Year of the Dragon. While most dragon eggs shimmered in shades of blue and green, this particular egg gleamed with an unusual purple hue that caught the sunlight in mysterious ways.\n",
      "\n",
      "Elder Dragon Astor watched over the eggs with particular interest in the purple one. According to ancient scrolls, purple dragons were exceedingly rare and possessed unique abilities that could master all the elemental powers - not just one, as was common among their kin.\n",
      "Token count: 128\n",
      "Start index: 0\n",
      "End index: 623\n",
      "============================================================================================================\n",
      "Chunk text:  an unusual purple hue that caught the sunlight in mysterious ways.\n",
      "\n",
      "Elder Dragon Astor watched over the eggs with particular interest in the purple one. According to ancient scrolls, purple dragons were exceedingly rare and possessed unique abilities that could master all the elemental powers - not just one, as was common among their kin.\n",
      "\n",
      "On the evening of the great hatching, while other dragonets emerged gracefully from their shells, the purple egg practically exploded with energy, sending sparkles in every direction. Out tumbled a tiny purple dragon with bright orange wings and golden horns - Spyro. While other newly hatched dragons were still finding their\n",
      "Token count: 128\n",
      "Start index: -1\n",
      "End index: 668\n",
      "============================================================================================================\n",
      "Chunk text: \n",
      "\n",
      "On the evening of the great hatching, while other dragonets emerged gracefully from their shells, the purple egg practically exploded with energy, sending sparkles in every direction. Out tumbled a tiny purple dragon with bright orange wings and golden horns - Spyro. While other newly hatched dragons were still finding their footing, Spyro was already charging around the nursery, bouncing off walls and accidentally setting tapestries ablaze with his surprisingly powerful flame breath.\n",
      "\n",
      "It was during these first chaotic moments that a young dragonfly named Sparx, attracted by the commotion, flew into the nursery. Instead of being frightened by\n",
      "Token count: 128\n",
      "Start index: -1\n",
      "End index: 651\n",
      "============================================================================================================\n",
      "Chunk text:  footing, Spyro was already charging around the nursery, bouncing off walls and accidentally setting tapestries ablaze with his surprisingly powerful flame breath.\n",
      "\n",
      "It was during these first chaotic moments that a young dragonfly named Sparx, attracted by the commotion, flew into the nursery. Instead of being frightened by the energetic purple dragonet, Sparx seemed fascinated. The two locked eyes, and an immediate bond formed - one that would last a lifetime.\n",
      "\n",
      "The elder dragons quickly discovered that raising Spyro would be unlike raising any other young dragon. While his peers were content to study the ancient arts carefully and methodically\n",
      "Token count: 128\n",
      "Start index: 951\n",
      "End index: 1602\n",
      "============================================================================================================\n",
      "Chunk text:  the energetic purple dragonet, Sparx seemed fascinated. The two locked eyes, and an immediate bond formed - one that would last a lifetime.\n",
      "\n",
      "The elder dragons quickly discovered that raising Spyro would be unlike raising any other young dragon. While his peers were content to study the ancient arts carefully and methodically, Spyro preferred learning by doing - usually at full speed. He would glide before he was taught how, dive-bomb practice dummies before understanding proper form, and somehow manage to succeed through sheer determination and natural talent.\n",
      "\n",
      "Nestor, the Artisans' leader, often found himself both impressed and exasper\n",
      "Token count: 128\n",
      "Start index: -1\n",
      "End index: 644\n",
      "============================================================================================================\n",
      "Chunk text: , Spyro preferred learning by doing - usually at full speed. He would glide before he was taught how, dive-bomb practice dummies before understanding proper form, and somehow manage to succeed through sheer determination and natural talent.\n",
      "\n",
      "Nestor, the Artisans' leader, often found himself both impressed and exasperated by Spyro's antics. \"That young dragon,\" he would say, \"either going to be the realm's greatest hero or its biggest troublemaker.\" As it turned out, he would become both.\n",
      "\n",
      "What truly set Spyro apart wasn't just his color or his abilities - it was his unwavering\n",
      "Token count: 128\n",
      "Start index: 1602\n",
      "End index: 2185\n",
      "============================================================================================================\n",
      "Chunk text: ated by Spyro's antics. \"That young dragon,\" he would say, \"either going to be the realm's greatest hero or its biggest troublemaker.\" As it turned out, he would become both.\n",
      "\n",
      "What truly set Spyro apart wasn't just his color or his abilities - it was his unwavering courage and his willingness to help others, even when the odds seemed impossible. While other young dragons stayed within the safety of their home worlds, Spyro would venture out to help anyone in need, with faithful Sparx always by his side.\n",
      "\n",
      "This inherent bravery would serve him well, for none of his teachers\n",
      "Token count: 128\n",
      "Start index: -1\n",
      "End index: 577\n",
      "============================================================================================================\n",
      "Chunk text:  courage and his willingness to help others, even when the odds seemed impossible. While other young dragons stayed within the safety of their home worlds, Spyro would venture out to help anyone in need, with faithful Sparx always by his side.\n",
      "\n",
      "This inherent bravery would serve him well, for none of his teachers could have predicted that this small, headstrong purple dragon would one day face the likes of Gnasty Gnorc, protect the realms from Ripto's rage, and save the Dragon Worlds time and time again. But that's exactly what made Spyro special - he never backed down from a challenge, no matter\n",
      "Token count: 128\n",
      "Start index: 2185\n",
      "End index: 2787\n",
      "============================================================================================================\n",
      "Chunk text:  could have predicted that this small, headstrong purple dragon would one day face the likes of Gnasty Gnorc, protect the realms from Ripto's rage, and save the Dragon Worlds time and time again. But that's exactly what made Spyro special - he never backed down from a challenge, no matter how daunting it seemed.\n",
      "\n",
      "As he grew, Spyro maintained that same infectious enthusiasm and determination that had characterized his hatching. He transformed from an energetic hatchling into a legendary hero, proving that great things often come in small, purple packages.\n",
      "\n",
      "Token count: 116\n",
      "Start index: -1\n",
      "End index: 560\n",
      "============================================================================================================\n",
      "Chunk text:  how daunting it seemed.\n",
      "\n",
      "As he grew, Spyro maintained that same infectious enthusiasm and determination that had characterized his hatching. He transformed from an energetic hatchling into a legendary hero, proving that great things often come in small, purple packages.\n",
      "\n",
      "Token count: 52\n",
      "Start index: 2787\n",
      "End index: 3059\n",
      "============================================================================================================\n"
     ]
    }
   ],
   "source": [
    "for chunk in chunks:\n",
    "    print(f\"Chunk text: {chunk.text}\")\n",
    "    print(f\"Token count: {chunk.token_count}\")\n",
    "    print(f\"Start index: {chunk.start_index}\")\n",
    "    print(f\"End index: {chunk.end_index}\")\n",
    "    print(\"===\"*36)"
   ]
  },
  {
   "cell_type": "code",
   "execution_count": null,
   "metadata": {},
   "outputs": [],
   "source": []
  },
  {
   "cell_type": "markdown",
   "metadata": {},
   "source": [
    "## Exp 2 (WordChunker)\n",
    "Split text into chunks while maintaining word boundaries\n",
    "\n",
    "The WordChunker splits text into chunks while preserving word boundaries, ensuring that words stay intact and readable.\n",
    "\n",
    "https://docs.chonkie.ai/chunkers/word-chunker"
   ]
  },
  {
   "cell_type": "code",
   "execution_count": 12,
   "metadata": {},
   "outputs": [],
   "source": [
    "from chonkie import WordChunker"
   ]
  },
  {
   "cell_type": "code",
   "execution_count": 13,
   "metadata": {},
   "outputs": [],
   "source": [
    "chunker = WordChunker(\n",
    "    tokenizer=\"gpt2\",        # Supports string identifiers\n",
    "    chunk_size=128,         # Maximum tokens per chunk\n",
    "    chunk_overlap=64        # Overlap between chunks\n",
    ")"
   ]
  },
  {
   "cell_type": "code",
   "execution_count": 14,
   "metadata": {},
   "outputs": [],
   "source": [
    "chunks = chunker.chunk(story)"
   ]
  },
  {
   "cell_type": "code",
   "execution_count": 15,
   "metadata": {},
   "outputs": [
    {
     "name": "stdout",
     "output_type": "stream",
     "text": [
      "Chunk text: \n",
      "A Purple Dragon's Dawn\n",
      "\n",
      "In the heart of the Dragon Realms, beneath the towering spires of the Artisans' world, a very special egg rested among dozens of others in the Year of the Dragon. While most dragon eggs shimmered in shades of blue and green, this particular egg gleamed with an unusual purple hue that caught the sunlight in mysterious ways.\n",
      "\n",
      "Elder Dragon Astor watched over the eggs with particular interest in the purple one. According to ancient scrolls, purple dragons were exceedingly rare and possessed unique abilities that could master all the elemental powers - not just one, as was common among their kin.\n",
      "Token count: 128\n",
      "Start index: 0\n",
      "End index: 623\n",
      "============================================================================================================\n",
      "Chunk text:  an unusual purple hue that caught the sunlight in mysterious ways.\n",
      "\n",
      "Elder Dragon Astor watched over the eggs with particular interest in the purple one. According to ancient scrolls, purple dragons were exceedingly rare and possessed unique abilities that could master all the elemental powers - not just one, as was common among their kin.\n",
      "\n",
      "On the evening of the great hatching, while other dragonets emerged gracefully from their shells, the purple egg practically exploded with energy, sending sparkles in every direction. Out tumbled a tiny purple dragon with bright orange wings and golden horns - Spyro. While other newly hatched dragons were still finding their\n",
      "Token count: 128\n",
      "Start index: -1\n",
      "End index: 668\n",
      "============================================================================================================\n",
      "Chunk text: \n",
      "\n",
      "On the evening of the great hatching, while other dragonets emerged gracefully from their shells, the purple egg practically exploded with energy, sending sparkles in every direction. Out tumbled a tiny purple dragon with bright orange wings and golden horns - Spyro. While other newly hatched dragons were still finding their footing, Spyro was already charging around the nursery, bouncing off walls and accidentally setting tapestries ablaze with his surprisingly powerful flame breath.\n",
      "\n",
      "It was during these first chaotic moments that a young dragonfly named Sparx, attracted by the commotion, flew into the nursery. Instead of being frightened by\n",
      "Token count: 128\n",
      "Start index: -1\n",
      "End index: 651\n",
      "============================================================================================================\n",
      "Chunk text:  footing, Spyro was already charging around the nursery, bouncing off walls and accidentally setting tapestries ablaze with his surprisingly powerful flame breath.\n",
      "\n",
      "It was during these first chaotic moments that a young dragonfly named Sparx, attracted by the commotion, flew into the nursery. Instead of being frightened by the energetic purple dragonet, Sparx seemed fascinated. The two locked eyes, and an immediate bond formed - one that would last a lifetime.\n",
      "\n",
      "The elder dragons quickly discovered that raising Spyro would be unlike raising any other young dragon. While his peers were content to study the ancient arts carefully and\n",
      "Token count: 126\n",
      "Start index: 951\n",
      "End index: 1589\n",
      "============================================================================================================\n",
      "Chunk text:  frightened by the energetic purple dragonet, Sparx seemed fascinated. The two locked eyes, and an immediate bond formed - one that would last a lifetime.\n",
      "\n",
      "The elder dragons quickly discovered that raising Spyro would be unlike raising any other young dragon. While his peers were content to study the ancient arts carefully and methodically, Spyro preferred learning by doing - usually at full speed. He would glide before he was taught how, dive-bomb practice dummies before understanding proper form, and somehow manage to succeed through sheer determination and natural talent.\n",
      "\n",
      "Nestor, the Artisans' leader, often found himself both impressed\n",
      "Token count: 128\n",
      "Start index: -1\n",
      "End index: 646\n",
      "============================================================================================================\n",
      "Chunk text:  methodically, Spyro preferred learning by doing - usually at full speed. He would glide before he was taught how, dive-bomb practice dummies before understanding proper form, and somehow manage to succeed through sheer determination and natural talent.\n",
      "\n",
      "Nestor, the Artisans' leader, often found himself both impressed and exasperated by Spyro's antics. \"That young dragon,\" he would say, \"either going to be the realm's greatest hero or its biggest troublemaker.\" As it turned out, he would become both.\n",
      "\n",
      "What truly set Spyro apart wasn't just his color or his abilities - it was his\n",
      "Token count: 128\n",
      "Start index: 1589\n",
      "End index: 2174\n",
      "============================================================================================================\n",
      "Chunk text:  and exasperated by Spyro's antics. \"That young dragon,\" he would say, \"either going to be the realm's greatest hero or its biggest troublemaker.\" As it turned out, he would become both.\n",
      "\n",
      "What truly set Spyro apart wasn't just his color or his abilities - it was his unwavering courage and his willingness to help others, even when the odds seemed impossible. While other young dragons stayed within the safety of their home worlds, Spyro would venture out to help anyone in need, with faithful Sparx always by his side.\n",
      "\n",
      "This inherent bravery would serve him well, for none of\n",
      "Token count: 128\n",
      "Start index: -1\n",
      "End index: 576\n",
      "============================================================================================================\n",
      "Chunk text:  unwavering courage and his willingness to help others, even when the odds seemed impossible. While other young dragons stayed within the safety of their home worlds, Spyro would venture out to help anyone in need, with faithful Sparx always by his side.\n",
      "\n",
      "This inherent bravery would serve him well, for none of his teachers could have predicted that this small, headstrong purple dragon would one day face the likes of Gnasty Gnorc, protect the realms from Ripto's rage, and save the Dragon Worlds time and time again. But that's exactly what made Spyro special - he never backed down from a challenge,\n",
      "Token count: 128\n",
      "Start index: 2174\n",
      "End index: 2777\n",
      "============================================================================================================\n",
      "Chunk text:  his teachers could have predicted that this small, headstrong purple dragon would one day face the likes of Gnasty Gnorc, protect the realms from Ripto's rage, and save the Dragon Worlds time and time again. But that's exactly what made Spyro special - he never backed down from a challenge, no matter how daunting it seemed.\n",
      "\n",
      "As he grew, Spyro maintained that same infectious enthusiasm and determination that had characterized his hatching. He transformed from an energetic hatchling into a legendary hero, proving that great things often come in small, purple packages.\n",
      "\n",
      "Token count: 118\n",
      "Start index: 2485\n",
      "End index: 3059\n",
      "============================================================================================================\n"
     ]
    }
   ],
   "source": [
    "for chunk in chunks:\n",
    "    print(f\"Chunk text: {chunk.text}\")\n",
    "    print(f\"Token count: {chunk.token_count}\")\n",
    "    print(f\"Start index: {chunk.start_index}\")\n",
    "    print(f\"End index: {chunk.end_index}\")\n",
    "    print(\"===\"*36)"
   ]
  },
  {
   "cell_type": "code",
   "execution_count": null,
   "metadata": {},
   "outputs": [],
   "source": []
  },
  {
   "cell_type": "markdown",
   "metadata": {},
   "source": [
    "## Exp 3 (SentenceChunker)\n",
    "Split text into chunks while preserving sentence boundaries\n",
    "\n",
    "The SentenceChunker splits text into chunks while preserving complete sentences, ensuring that each chunk maintains proper sentence boundaries and context.\n",
    "\n",
    "https://docs.chonkie.ai/chunkers/sentence-chunker"
   ]
  },
  {
   "cell_type": "code",
   "execution_count": 16,
   "metadata": {},
   "outputs": [],
   "source": [
    "from chonkie import SentenceChunker"
   ]
  },
  {
   "cell_type": "code",
   "execution_count": 17,
   "metadata": {},
   "outputs": [],
   "source": [
    "chunker = SentenceChunker(\n",
    "    tokenizer=\"gpt2\",                # Supports string identifiers\n",
    "    chunk_size=128,                  # Maximum tokens per chunk\n",
    "    chunk_overlap=64,               # Overlap between chunks\n",
    "    min_sentences_per_chunk=1        # Minimum sentences in each chunk\n",
    ")"
   ]
  },
  {
   "cell_type": "code",
   "execution_count": 18,
   "metadata": {},
   "outputs": [],
   "source": [
    "chunks = chunker.chunk(story)"
   ]
  },
  {
   "cell_type": "code",
   "execution_count": 19,
   "metadata": {},
   "outputs": [
    {
     "name": "stdout",
     "output_type": "stream",
     "text": [
      "Chunk text: \n",
      "A Purple Dragon's Dawn\n",
      "\n",
      "In the heart of the Dragon Realms, beneath the towering spires of the Artisans' world, a very special egg rested among dozens of others in the Year of the Dragon. While most dragon eggs shimmered in shades of blue and green, this particular egg gleamed with an unusual purple hue that caught the sunlight in mysterious ways.\n",
      "\n",
      "Elder Dragon Astor watched over the eggs with particular interest in the purple one.\n",
      "Token count: 95\n",
      "Start index: 0\n",
      "End index: 435\n",
      "Number of sentences: 5\n",
      "============================================================================================================\n",
      "Chunk text:  While most dragon eggs shimmered in shades of blue and green, this particular egg gleamed with an unusual purple hue that caught the sunlight in mysterious ways.\n",
      "\n",
      "Elder Dragon Astor watched over the eggs with particular interest in the purple one. According to ancient scrolls, purple dragons were exceedingly rare and possessed unique abilities that could master all the elemental powers - not just one, as was common among their kin.\n",
      "\n",
      "On the evening of the great hatching, while other dragonets emerged gracefully from their shells, the purple egg practically exploded with energy, sending sparkles in every direction.\n",
      "Token count: 121\n",
      "Start index: 187\n",
      "End index: 808\n",
      "Number of sentences: 4\n",
      "============================================================================================================\n",
      "Chunk text:  According to ancient scrolls, purple dragons were exceedingly rare and possessed unique abilities that could master all the elemental powers - not just one, as was common among their kin.\n",
      "\n",
      "On the evening of the great hatching, while other dragonets emerged gracefully from their shells, the purple egg practically exploded with energy, sending sparkles in every direction. Out tumbled a tiny purple dragon with bright orange wings and golden horns - Spyro.\n",
      "Token count: 88\n",
      "Start index: 435\n",
      "End index: 892\n",
      "Number of sentences: 3\n",
      "============================================================================================================\n",
      "Chunk text: On the evening of the great hatching, while other dragonets emerged gracefully from their shells, the purple egg practically exploded with energy, sending sparkles in every direction. Out tumbled a tiny purple dragon with bright orange wings and golden horns - Spyro. While other newly hatched dragons were still finding their footing, Spyro was already charging around the nursery, bouncing off walls and accidentally setting tapestries ablaze with his surprisingly powerful flame breath.\n",
      "\n",
      "It was during these first chaotic moments that a young dragonfly named Sparx, attracted by the commotion, flew into the nursery.\n",
      "Token count: 121\n",
      "Start index: 625\n",
      "End index: 1244\n",
      "Number of sentences: 4\n",
      "============================================================================================================\n",
      "Chunk text:  While other newly hatched dragons were still finding their footing, Spyro was already charging around the nursery, bouncing off walls and accidentally setting tapestries ablaze with his surprisingly powerful flame breath.\n",
      "\n",
      "It was during these first chaotic moments that a young dragonfly named Sparx, attracted by the commotion, flew into the nursery. Instead of being frightened by the energetic purple dragonet, Sparx seemed fascinated. The two locked eyes, and an immediate bond formed - one that would last a lifetime.\n",
      "\n",
      "The elder dragons quickly discovered that raising Spyro would be unlike raising any other young dragon.\n",
      "Token count: 123\n",
      "Start index: 892\n",
      "End index: 1520\n",
      "Number of sentences: 5\n",
      "============================================================================================================\n",
      "Chunk text:  Instead of being frightened by the energetic purple dragonet, Sparx seemed fascinated. The two locked eyes, and an immediate bond formed - one that would last a lifetime.\n",
      "\n",
      "The elder dragons quickly discovered that raising Spyro would be unlike raising any other young dragon. While his peers were content to study the ancient arts carefully and methodically, Spyro preferred learning by doing - usually at full speed. He would glide before he was taught how, dive-bomb practice dummies before understanding proper form, and somehow manage to succeed through sheer determination and natural talent.\n",
      "\n",
      "\n",
      "Token count: 115\n",
      "Start index: 1244\n",
      "End index: 1844\n",
      "Number of sentences: 5\n",
      "============================================================================================================\n",
      "Chunk text:  While his peers were content to study the ancient arts carefully and methodically, Spyro preferred learning by doing - usually at full speed. He would glide before he was taught how, dive-bomb practice dummies before understanding proper form, and somehow manage to succeed through sheer determination and natural talent.\n",
      "\n",
      "Nestor, the Artisans' leader, often found himself both impressed and exasperated by Spyro's antics. \"That young dragon,\" he would say, \"either going to be the realm's greatest hero or its biggest troublemaker.\" As it turned out, he would become both.\n",
      "\n",
      "\n",
      "Token count: 121\n",
      "Start index: 1520\n",
      "End index: 2096\n",
      "Number of sentences: 5\n",
      "============================================================================================================\n",
      "Chunk text: Nestor, the Artisans' leader, often found himself both impressed and exasperated by Spyro's antics. \"That young dragon,\" he would say, \"either going to be the realm's greatest hero or its biggest troublemaker.\" As it turned out, he would become both.\n",
      "\n",
      "What truly set Spyro apart wasn't just his color or his abilities - it was his unwavering courage and his willingness to help others, even when the odds seemed impossible.\n",
      "Token count: 96\n",
      "Start index: 1844\n",
      "End index: 2267\n",
      "Number of sentences: 4\n",
      "============================================================================================================\n",
      "Chunk text:  \"That young dragon,\" he would say, \"either going to be the realm's greatest hero or its biggest troublemaker.\" As it turned out, he would become both.\n",
      "\n",
      "What truly set Spyro apart wasn't just his color or his abilities - it was his unwavering courage and his willingness to help others, even when the odds seemed impossible. While other young dragons stayed within the safety of their home worlds, Spyro would venture out to help anyone in need, with faithful Sparx always by his side.\n",
      "\n",
      "\n",
      "Token count: 107\n",
      "Start index: 1943\n",
      "End index: 2430\n",
      "Number of sentences: 4\n",
      "============================================================================================================\n",
      "Chunk text: What truly set Spyro apart wasn't just his color or his abilities - it was his unwavering courage and his willingness to help others, even when the odds seemed impossible. While other young dragons stayed within the safety of their home worlds, Spyro would venture out to help anyone in need, with faithful Sparx always by his side.\n",
      "\n",
      "\n",
      "Token count: 70\n",
      "Start index: 2096\n",
      "End index: 2430\n",
      "Number of sentences: 2\n",
      "============================================================================================================\n",
      "Chunk text:  While other young dragons stayed within the safety of their home worlds, Spyro would venture out to help anyone in need, with faithful Sparx always by his side.\n",
      "\n",
      "This inherent bravery would serve him well, for none of his teachers could have predicted that this small, headstrong purple dragon would one day face the likes of Gnasty Gnorc, protect the realms from Ripto's rage, and save the Dragon Worlds time and time again. But that's exactly what made Spyro special - he never backed down from a challenge, no matter how daunting it seemed.\n",
      "\n",
      "\n",
      "Token count: 119\n",
      "Start index: 2267\n",
      "End index: 2813\n",
      "Number of sentences: 3\n",
      "============================================================================================================\n",
      "Chunk text:  But that's exactly what made Spyro special - he never backed down from a challenge, no matter how daunting it seemed.\n",
      "\n",
      "As he grew, Spyro maintained that same infectious enthusiasm and determination that had characterized his hatching. He transformed from an energetic hatchling into a legendary hero, proving that great things often come in small, purple packages.\n",
      "\n",
      "Token count: 72\n",
      "Start index: 2693\n",
      "End index: 3059\n",
      "Number of sentences: 3\n",
      "============================================================================================================\n"
     ]
    }
   ],
   "source": [
    "for chunk in chunks:\n",
    "    print(f\"Chunk text: {chunk.text}\")\n",
    "    print(f\"Token count: {chunk.token_count}\")\n",
    "    print(f\"Start index: {chunk.start_index}\")\n",
    "    print(f\"End index: {chunk.end_index}\")\n",
    "    print(f\"Number of sentences: {len(chunk.sentences)}\")\n",
    "    print(\"===\"*36)"
   ]
  },
  {
   "cell_type": "code",
   "execution_count": null,
   "metadata": {},
   "outputs": [],
   "source": []
  },
  {
   "cell_type": "markdown",
   "metadata": {},
   "source": [
    "## Exp 4 (RecursiveChunker)\n",
    "Recursively chunk documents into smaller chunks.\n",
    "\n",
    "The RecursiveChunker is a chunker that recursively chunks documents into smaller chunks. It is a good choice for documents that are long but well structured, for example, a book or a research paper.\n",
    "\n",
    "https://docs.chonkie.ai/chunkers/recursive-chunker"
   ]
  },
  {
   "cell_type": "code",
   "execution_count": 20,
   "metadata": {},
   "outputs": [],
   "source": [
    "from chonkie import RecursiveChunker, RecursiveRules"
   ]
  },
  {
   "cell_type": "code",
   "execution_count": 21,
   "metadata": {},
   "outputs": [],
   "source": [
    "chunker = RecursiveChunker(\n",
    "    tokenizer=\"gpt2\",\n",
    "    chunk_size=128,\n",
    "    rules=RecursiveRules(), # Default rules\n",
    "    min_characters_per_chunk=1,\n",
    ")"
   ]
  },
  {
   "cell_type": "code",
   "execution_count": 22,
   "metadata": {},
   "outputs": [],
   "source": [
    "chunks = chunker.chunk(story)"
   ]
  },
  {
   "cell_type": "code",
   "execution_count": 23,
   "metadata": {},
   "outputs": [
    {
     "name": "stdout",
     "output_type": "stream",
     "text": [
      "Chunk text: \n",
      "A Purple Dragon's Dawn\n",
      "\n",
      "In the heart of the Dragon Realms, beneath the towering spires of the Artisans' world, a very special egg rested among dozens of others in the Year of the Dragon. While most dragon eggs shimmered in shades of blue and green, this particular egg gleamed with an unusual purple hue that caught the sunlight in mysterious ways.\n",
      "\n",
      "\n",
      "Token count: 78\n",
      "Start index: 0\n",
      "End index: 351\n",
      "============================================================================================================\n",
      "Chunk text: Elder Dragon Astor watched over the eggs with particular interest in the purple one. According to ancient scrolls, purple dragons were exceedingly rare and possessed unique abilities that could master all the elemental powers - not just one, as was common among their kin.\n",
      "\n",
      "\n",
      "Token count: 52\n",
      "Start index: 351\n",
      "End index: 625\n",
      "============================================================================================================\n",
      "Chunk text: On the evening of the great hatching, while other dragonets emerged gracefully from their shells, the purple egg practically exploded with energy, sending sparkles in every direction. Out tumbled a tiny purple dragon with bright orange wings and golden horns - Spyro. While other newly hatched dragons were still finding their footing, Spyro was already charging around the nursery, bouncing off walls and accidentally setting tapestries ablaze with his surprisingly powerful flame breath.\n",
      "\n",
      "\n",
      "Token count: 93\n",
      "Start index: 625\n",
      "End index: 1116\n",
      "============================================================================================================\n",
      "Chunk text: It was during these first chaotic moments that a young dragonfly named Sparx, attracted by the commotion, flew into the nursery. Instead of being frightened by the energetic purple dragonet, Sparx seemed fascinated. The two locked eyes, and an immediate bond formed - one that would last a lifetime.\n",
      "\n",
      "\n",
      "Token count: 65\n",
      "Start index: 1116\n",
      "End index: 1417\n",
      "============================================================================================================\n",
      "Chunk text: The elder dragons quickly discovered that raising Spyro would be unlike raising any other young dragon. While his peers were content to study the ancient arts carefully and methodically, Spyro preferred learning by doing - usually at full speed. He would glide before he was taught how, dive-bomb practice dummies before understanding proper form, and somehow manage to succeed through sheer determination and natural talent.\n",
      "\n",
      "\n",
      "Token count: 79\n",
      "Start index: 1417\n",
      "End index: 1844\n",
      "============================================================================================================\n",
      "Chunk text: Nestor, the Artisans' leader, often found himself both impressed and exasperated by Spyro's antics. \"That young dragon,\" he would say, \"either going to be the realm's greatest hero or its biggest troublemaker.\" As it turned out, he would become both.\n",
      "\n",
      "\n",
      "Token count: 61\n",
      "Start index: 1844\n",
      "End index: 2096\n",
      "============================================================================================================\n",
      "Chunk text: What truly set Spyro apart wasn't just his color or his abilities - it was his unwavering courage and his willingness to help others, even when the odds seemed impossible. While other young dragons stayed within the safety of their home worlds, Spyro would venture out to help anyone in need, with faithful Sparx always by his side.\n",
      "\n",
      "\n",
      "Token count: 71\n",
      "Start index: 2096\n",
      "End index: 2430\n",
      "============================================================================================================\n",
      "Chunk text: This inherent bravery would serve him well, for none of his teachers could have predicted that this small, headstrong purple dragon would one day face the likes of Gnasty Gnorc, protect the realms from Ripto's rage, and save the Dragon Worlds time and time again. But that's exactly what made Spyro special - he never backed down from a challenge, no matter how daunting it seemed.\n",
      "\n",
      "\n",
      "Token count: 84\n",
      "Start index: 2430\n",
      "End index: 2813\n",
      "============================================================================================================\n",
      "Chunk text: As he grew, Spyro maintained that same infectious enthusiasm and determination that had characterized his hatching. He transformed from an energetic hatchling into a legendary hero, proving that great things often come in small, purple packages.\n",
      "\n",
      "Token count: 45\n",
      "Start index: 2813\n",
      "End index: 3059\n",
      "============================================================================================================\n"
     ]
    }
   ],
   "source": [
    "for chunk in chunks:\n",
    "    print(f\"Chunk text: {chunk.text}\")\n",
    "    print(f\"Token count: {chunk.token_count}\")\n",
    "    print(f\"Start index: {chunk.start_index}\")\n",
    "    print(f\"End index: {chunk.end_index}\")\n",
    "    print(\"===\"*36)"
   ]
  },
  {
   "cell_type": "code",
   "execution_count": null,
   "metadata": {},
   "outputs": [],
   "source": []
  },
  {
   "cell_type": "markdown",
   "metadata": {},
   "source": [
    "## Exp 5 (SemanticChunker)\n",
    "Split text into chunks based on semantic similarity\n",
    "\n",
    "The SemanticChunker splits text into chunks based on semantic similarity, ensuring that related content stays together in the same chunk. This approach is particularly useful for RAG applications where context preservation is crucial.\n",
    "\n",
    "https://docs.chonkie.ai/chunkers/semantic-chunker"
   ]
  },
  {
   "cell_type": "code",
   "execution_count": 24,
   "metadata": {},
   "outputs": [],
   "source": [
    "from chonkie import SemanticChunker"
   ]
  },
  {
   "cell_type": "code",
   "execution_count": 25,
   "metadata": {},
   "outputs": [
    {
     "name": "stderr",
     "output_type": "stream",
     "text": [
      "/usr/local/python/3.12.1/lib/python3.12/site-packages/tqdm/auto.py:21: TqdmWarning: IProgress not found. Please update jupyter and ipywidgets. See https://ipywidgets.readthedocs.io/en/stable/user_install.html\n",
      "  from .autonotebook import tqdm as notebook_tqdm\n"
     ]
    }
   ],
   "source": [
    "chunker = SemanticChunker(\n",
    "    embedding_model=\"minishlab/potion-base-8M\",  # Default model\n",
    "    threshold=\"auto\",                               # Similarity threshold (0-1) or (1-100) or \"auto\"\n",
    "    chunk_size=128,                              # Maximum tokens per chunk\n",
    "    min_sentences=1                              # Initial sentences per chunk\n",
    ")"
   ]
  },
  {
   "cell_type": "code",
   "execution_count": 26,
   "metadata": {},
   "outputs": [],
   "source": [
    "chunks = chunker.chunk(story)"
   ]
  },
  {
   "cell_type": "code",
   "execution_count": 27,
   "metadata": {},
   "outputs": [
    {
     "name": "stdout",
     "output_type": "stream",
     "text": [
      "Chunk text: \n",
      "A Purple Dragon's Dawn\n",
      "\n",
      "\n",
      "Token count: 6\n",
      "Number of sentences: 2\n",
      "Chunk text: In the heart of the Dragon Realms, beneath the towering spires of the Artisans' world, a very special egg rested among dozens of others in the Year of the Dragon. While most dragon eggs shimmered in shades of blue and green, this particular egg gleamed with an unusual purple hue that caught the sunlight in mysterious ways.\n",
      "\n",
      "Elder Dragon Astor watched over the eggs with particular interest in the purple one. According to ancient scrolls, purple dragons were exceedingly rare and possessed unique abilities that could master all the elemental powers - not just one, as was common among their kin.\n",
      "\n",
      "\n",
      "Token count: 115\n",
      "Number of sentences: 4\n",
      "Chunk text: On the evening of the great hatching, while other dragonets emerged gracefully from their shells, the purple egg practically exploded with energy, sending sparkles in every direction. Out tumbled a tiny purple dragon with bright orange wings and golden horns - Spyro. While other newly hatched dragons were still finding their footing, Spyro was already charging around the nursery, bouncing off walls and accidentally setting tapestries ablaze with his surprisingly powerful flame breath.\n",
      "\n",
      "It was during these first chaotic moments that a young dragonfly named Sparx, attracted by the commotion, flew into the nursery.\n",
      "Token count: 116\n",
      "Number of sentences: 4\n",
      "Chunk text:  Instead of being frightened by the energetic purple dragonet, Sparx seemed fascinated. The two locked eyes, and an immediate bond formed - one that would last a lifetime.\n",
      "\n",
      "\n",
      "Token count: 35\n",
      "Number of sentences: 2\n",
      "Chunk text: The elder dragons quickly discovered that raising Spyro would be unlike raising any other young dragon.\n",
      "Token count: 18\n",
      "Number of sentences: 1\n",
      "Chunk text:  While his peers were content to study the ancient arts carefully and methodically, Spyro preferred learning by doing - usually at full speed. He would glide before he was taught how, dive-bomb practice dummies before understanding proper form, and somehow manage to succeed through sheer determination and natural talent.\n",
      "\n",
      "Nestor, the Artisans' leader, often found himself both impressed and exasperated by Spyro's antics. \"That young dragon,\" he would say, \"either going to be the realm's greatest hero or its biggest troublemaker.\n",
      "Token count: 108\n",
      "Number of sentences: 4\n",
      "Chunk text: \" As it turned out, he would become both.\n",
      "\n",
      "\n",
      "Token count: 11\n",
      "Number of sentences: 1\n",
      "Chunk text: What truly set Spyro apart wasn't just his color or his abilities - it was his unwavering courage and his willingness to help others, even when the odds seemed impossible. While other young dragons stayed within the safety of their home worlds, Spyro would venture out to help anyone in need, with faithful Sparx always by his side.\n",
      "\n",
      "\n",
      "Token count: 71\n",
      "Number of sentences: 2\n",
      "Chunk text: This inherent bravery would serve him well, for none of his teachers could have predicted that this small, headstrong purple dragon would one day face the likes of Gnasty Gnorc, protect the realms from Ripto's rage, and save the Dragon Worlds time and time again. But that's exactly what made Spyro special - he never backed down from a challenge, no matter how daunting it seemed.\n",
      "\n",
      "As he grew, Spyro maintained that same infectious enthusiasm and determination that had characterized his hatching.\n",
      "Token count: 107\n",
      "Number of sentences: 3\n",
      "Chunk text:  He transformed from an energetic hatchling into a legendary hero, proving that great things often come in small, purple packages.\n",
      "\n",
      "Token count: 24\n",
      "Number of sentences: 1\n"
     ]
    }
   ],
   "source": [
    "for chunk in chunks:\n",
    "    print(f\"Chunk text: {chunk.text}\")\n",
    "    print(f\"Token count: {chunk.token_count}\")\n",
    "    print(f\"Number of sentences: {len(chunk.sentences)}\")"
   ]
  },
  {
   "cell_type": "code",
   "execution_count": null,
   "metadata": {},
   "outputs": [],
   "source": []
  },
  {
   "cell_type": "markdown",
   "metadata": {},
   "source": [
    "## Exp 6 (SDPMChunker)\n",
    "\n",
    "Split text using Semantic Double-Pass Merging for improved context preservation\n",
    "\n",
    "The SDPMChunker extends semantic chunking by using a double-pass merging approach. It first groups content by semantic similarity, then merges similar groups within a skip window, allowing it to connect related content that may not be consecutive in the text. This technique is particularly useful for documents with recurring themes or concepts spread apart.\n",
    "\n",
    "https://docs.chonkie.ai/chunkers/sdpm-chunker"
   ]
  },
  {
   "cell_type": "code",
   "execution_count": 28,
   "metadata": {},
   "outputs": [],
   "source": [
    "from chonkie import SDPMChunker"
   ]
  },
  {
   "cell_type": "code",
   "execution_count": 29,
   "metadata": {},
   "outputs": [],
   "source": [
    "chunker = SDPMChunker(\n",
    "    embedding_model=\"minishlab/potion-base-8M\",  # Default model\n",
    "    threshold=0.5,                              # Similarity threshold (0-1)\n",
    "    chunk_size=128,                             # Maximum tokens per chunk\n",
    "    min_sentences=1,                            # Initial sentences per chunk\n",
    "    skip_window=0                               # Number of chunks to skip when looking for similarities\n",
    ")"
   ]
  },
  {
   "cell_type": "code",
   "execution_count": 30,
   "metadata": {},
   "outputs": [],
   "source": [
    "chunks = chunker.chunk(story)"
   ]
  },
  {
   "cell_type": "code",
   "execution_count": 31,
   "metadata": {},
   "outputs": [
    {
     "name": "stdout",
     "output_type": "stream",
     "text": [
      "Chunk text: \n",
      "A Purple Dragon's Dawn\n",
      "\n",
      "In the heart of the Dragon Realms, beneath the towering spires of the Artisans' world, a very special egg rested among dozens of others in the Year of the Dragon. While most dragon eggs shimmered in shades of blue and green, this particular egg gleamed with an unusual purple hue that caught the sunlight in mysterious ways.\n",
      "\n",
      "Elder Dragon Astor watched over the eggs with particular interest in the purple one. According to ancient scrolls, purple dragons were exceedingly rare and possessed unique abilities that could master all the elemental powers - not just one, as was common among their kin.\n",
      "\n",
      "\n",
      "Token count: 121\n",
      "Number of sentences: 6\n",
      "Chunk text: On the evening of the great hatching, while other dragonets emerged gracefully from their shells, the purple egg practically exploded with energy, sending sparkles in every direction. Out tumbled a tiny purple dragon with bright orange wings and golden horns - Spyro. While other newly hatched dragons were still finding their footing, Spyro was already charging around the nursery, bouncing off walls and accidentally setting tapestries ablaze with his surprisingly powerful flame breath.\n",
      "\n",
      "It was during these first chaotic moments that a young dragonfly named Sparx, attracted by the commotion, flew into the nursery.\n",
      "Token count: 116\n",
      "Number of sentences: 4\n",
      "Chunk text:  Instead of being frightened by the energetic purple dragonet, Sparx seemed fascinated. The two locked eyes, and an immediate bond formed - one that would last a lifetime.\n",
      "\n",
      "The elder dragons quickly discovered that raising Spyro would be unlike raising any other young dragon. While his peers were content to study the ancient arts carefully and methodically, Spyro preferred learning by doing - usually at full speed. He would glide before he was taught how, dive-bomb practice dummies before understanding proper form, and somehow manage to succeed through sheer determination and natural talent.\n",
      "\n",
      "\n",
      "Token count: 113\n",
      "Number of sentences: 5\n",
      "Chunk text: Nestor, the Artisans' leader, often found himself both impressed and exasperated by Spyro's antics. \"That young dragon,\" he would say, \"either going to be the realm's greatest hero or its biggest troublemaker.\" As it turned out, he would become both.\n",
      "\n",
      "What truly set Spyro apart wasn't just his color or his abilities - it was his unwavering courage and his willingness to help others, even when the odds seemed impossible.\n",
      "Token count: 96\n",
      "Number of sentences: 4\n",
      "Chunk text:  While other young dragons stayed within the safety of their home worlds, Spyro would venture out to help anyone in need, with faithful Sparx always by his side.\n",
      "\n",
      "This inherent bravery would serve him well, for none of his teachers could have predicted that this small, headstrong purple dragon would one day face the likes of Gnasty Gnorc, protect the realms from Ripto's rage, and save the Dragon Worlds time and time again. But that's exactly what made Spyro special - he never backed down from a challenge, no matter how daunting it seemed.\n",
      "\n",
      "\n",
      "Token count: 121\n",
      "Number of sentences: 3\n",
      "Chunk text: As he grew, Spyro maintained that same infectious enthusiasm and determination that had characterized his hatching. He transformed from an energetic hatchling into a legendary hero, proving that great things often come in small, purple packages.\n",
      "\n",
      "Token count: 44\n",
      "Number of sentences: 2\n"
     ]
    }
   ],
   "source": [
    "for chunk in chunks:\n",
    "    print(f\"Chunk text: {chunk.text}\")\n",
    "    print(f\"Token count: {chunk.token_count}\")\n",
    "    print(f\"Number of sentences: {len(chunk.sentences)}\")"
   ]
  },
  {
   "cell_type": "code",
   "execution_count": null,
   "metadata": {},
   "outputs": [],
   "source": []
  },
  {
   "cell_type": "markdown",
   "metadata": {},
   "source": [
    "## Exp 7 (LateChunker)\n",
    "Split text into chunks based on a late-bound token count\n",
    "\n",
    "LateChunker is based on the paper Late Chunking, which uses a long-context embedding model to first chunk such that the entire document is within the context window. Then, it splits appart the embeddings into chunks of a specified size, either by token chunking or sentence chunking.e consecutive in the text. This technique is particularly useful for documents with recurring themes or concepts spread apart.\n",
    "\n",
    "https://docs.chonkie.ai/chunkers/late-chunker"
   ]
  },
  {
   "cell_type": "code",
   "execution_count": 32,
   "metadata": {},
   "outputs": [],
   "source": [
    "from chonkie import LateChunker"
   ]
  },
  {
   "cell_type": "code",
   "execution_count": 33,
   "metadata": {},
   "outputs": [],
   "source": [
    "chunker = LateChunker(\n",
    "    embedding_model=\"all-MiniLM-L6-v2\",\n",
    "    mode = \"sentence\",\n",
    "    chunk_size=128,\n",
    "    min_sentences_per_chunk=1,\n",
    "    min_characters_per_sentence=12,\n",
    ")"
   ]
  },
  {
   "cell_type": "code",
   "execution_count": 34,
   "metadata": {},
   "outputs": [
    {
     "name": "stderr",
     "output_type": "stream",
     "text": [
      "Token indices sequence length is longer than the specified maximum sequence length for this model (611 > 256). Running this sequence through the model will result in indexing errors\n"
     ]
    }
   ],
   "source": [
    "chunks = chunker(story)"
   ]
  },
  {
   "cell_type": "code",
   "execution_count": 35,
   "metadata": {},
   "outputs": [
    {
     "name": "stdout",
     "output_type": "stream",
     "text": [
      "Chunk text: \n",
      "A Purple Dragon's Dawn\n",
      "\n",
      "In the heart of the Dragon Realms, beneath the towering spires of the Artisans' world, a very special egg rested among dozens of others in the Year of the Dragon. While most dragon eggs shimmered in shades of blue and green, this particular egg gleamed with an unusual purple hue that caught the sunlight in mysterious ways.\n",
      "\n",
      "Elder Dragon Astor watched over the eggs with particular interest in the purple one. According to ancient scrolls, purple dragons were exceedingly rare and possessed unique abilities that could master all the elemental powers - not just one, as was common among their kin.\n",
      "\n",
      "\n",
      "Token count: 121\n",
      "Number of sentences: 6\n",
      "Chunk text: On the evening of the great hatching, while other dragonets emerged gracefully from their shells, the purple egg practically exploded with energy, sending sparkles in every direction. Out tumbled a tiny purple dragon with bright orange wings and golden horns - Spyro. While other newly hatched dragons were still finding their footing, Spyro was already charging around the nursery, bouncing off walls and accidentally setting tapestries ablaze with his surprisingly powerful flame breath.\n",
      "\n",
      "It was during these first chaotic moments that a young dragonfly named Sparx, attracted by the commotion, flew into the nursery.\n",
      "Token count: 116\n",
      "Number of sentences: 4\n",
      "Chunk text:  Instead of being frightened by the energetic purple dragonet, Sparx seemed fascinated. The two locked eyes, and an immediate bond formed - one that would last a lifetime.\n",
      "\n",
      "The elder dragons quickly discovered that raising Spyro would be unlike raising any other young dragon. While his peers were content to study the ancient arts carefully and methodically, Spyro preferred learning by doing - usually at full speed. He would glide before he was taught how, dive-bomb practice dummies before understanding proper form, and somehow manage to succeed through sheer determination and natural talent.\n",
      "\n",
      "\n",
      "Token count: 113\n",
      "Number of sentences: 5\n",
      "Chunk text: Nestor, the Artisans' leader, often found himself both impressed and exasperated by Spyro's antics. \"That young dragon,\" he would say, \"either going to be the realm's greatest hero or its biggest troublemaker.\" As it turned out, he would become both.\n",
      "\n",
      "What truly set Spyro apart wasn't just his color or his abilities - it was his unwavering courage and his willingness to help others, even when the odds seemed impossible.\n",
      "Token count: 96\n",
      "Number of sentences: 4\n",
      "Chunk text:  While other young dragons stayed within the safety of their home worlds, Spyro would venture out to help anyone in need, with faithful Sparx always by his side.\n",
      "\n",
      "This inherent bravery would serve him well, for none of his teachers could have predicted that this small, headstrong purple dragon would one day face the likes of Gnasty Gnorc, protect the realms from Ripto's rage, and save the Dragon Worlds time and time again. But that's exactly what made Spyro special - he never backed down from a challenge, no matter how daunting it seemed.\n",
      "\n",
      "\n",
      "Token count: 121\n",
      "Number of sentences: 3\n",
      "Chunk text: As he grew, Spyro maintained that same infectious enthusiasm and determination that had characterized his hatching. He transformed from an energetic hatchling into a legendary hero, proving that great things often come in small, purple packages.\n",
      "\n",
      "Token count: 44\n",
      "Number of sentences: 2\n"
     ]
    }
   ],
   "source": [
    "for chunk in chunks:\n",
    "    print(f\"Chunk text: {chunk.text}\")\n",
    "    print(f\"Token count: {chunk.token_count}\")\n",
    "    print(f\"Number of sentences: {len(chunk.sentences)}\")"
   ]
  },
  {
   "cell_type": "code",
   "execution_count": null,
   "metadata": {},
   "outputs": [],
   "source": []
  },
  {
   "cell_type": "markdown",
   "metadata": {},
   "source": [
    "## Misc.\n",
    "Batch Chunking"
   ]
  },
  {
   "cell_type": "code",
   "execution_count": 36,
   "metadata": {},
   "outputs": [
    {
     "name": "stdout",
     "output_type": "stream",
     "text": [
      "Chunk text: First document about topic A...\n",
      "Token count: 8\n",
      "Number of sentences: 1\n",
      "Chunk text: Second document about topic B...\n",
      "Token count: 8\n",
      "Number of sentences: 1\n"
     ]
    }
   ],
   "source": [
    "# Example\n",
    "\n",
    "texts = [\n",
    "    \"First document about topic A...\",\n",
    "    \"Second document about topic B...\"\n",
    "]\n",
    "\n",
    "batch_chunks = chunker(texts)\n",
    "\n",
    "for chunks in batch_chunks:\n",
    "    for curr_chunk in chunks:\n",
    "        print(f\"Chunk text: {curr_chunk.text}\")\n",
    "        print(f\"Token count: {curr_chunk.token_count}\")\n",
    "        print(f\"Number of sentences: {len(curr_chunk.sentences)}\")"
   ]
  },
  {
   "cell_type": "code",
   "execution_count": null,
   "metadata": {},
   "outputs": [],
   "source": []
  }
 ],
 "metadata": {
  "kernelspec": {
   "display_name": "Python 3",
   "language": "python",
   "name": "python3"
  },
  "language_info": {
   "codemirror_mode": {
    "name": "ipython",
    "version": 3
   },
   "file_extension": ".py",
   "mimetype": "text/x-python",
   "name": "python",
   "nbconvert_exporter": "python",
   "pygments_lexer": "ipython3",
   "version": "3.12.1"
  }
 },
 "nbformat": 4,
 "nbformat_minor": 2
}
